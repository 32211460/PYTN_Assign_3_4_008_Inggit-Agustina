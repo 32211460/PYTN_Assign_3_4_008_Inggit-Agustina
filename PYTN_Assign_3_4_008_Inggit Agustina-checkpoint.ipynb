{
 "cells": [
  {
   "cell_type": "markdown",
   "id": "14369ef7",
   "metadata": {},
   "source": [
    "# Logistik Regression"
   ]
  },
  {
   "cell_type": "markdown",
   "id": "0fec1d7a",
   "metadata": {},
   "source": [
    "Kode Logistik Regression"
   ]
  },
  {
   "cell_type": "code",
   "execution_count": 1,
   "id": "c1c24b54",
   "metadata": {},
   "outputs": [],
   "source": [
    "import pandas as pd\n",
    "import numpy as np\n",
    "from sklearn.model_selection import train_test_split\n",
    "from sklearn.linear_model import LogisticRegression\n",
    "from sklearn.metrics import accuracy_score, precision_score, recall_score, f1_score"
   ]
  },
  {
   "cell_type": "markdown",
   "id": "1e11582d",
   "metadata": {},
   "source": [
    "Memuat Data"
   ]
  },
  {
   "cell_type": "code",
   "execution_count": 2,
   "id": "8947a2e3",
   "metadata": {},
   "outputs": [],
   "source": [
    "df = pd.read_csv('Bank-full.csv', delimiter=';')"
   ]
  },
  {
   "cell_type": "markdown",
   "id": "a2b9b0ac",
   "metadata": {},
   "source": [
    "Preprocessing data"
   ]
  },
  {
   "cell_type": "code",
   "execution_count": 3,
   "id": "14cfc2d9",
   "metadata": {},
   "outputs": [],
   "source": [
    "df['y'] = df['y'].map({'yes': 1, 'no': 0}) # Convert target variable to binary\n",
    "df = pd.get_dummies(df) # One-hot encoding for categorical features"
   ]
  },
  {
   "cell_type": "markdown",
   "id": "fad48f8e",
   "metadata": {},
   "source": [
    "Pisahkan data menjadi set pelatihan dan pengujian"
   ]
  },
  {
   "cell_type": "code",
   "execution_count": 4,
   "id": "e2224e10",
   "metadata": {},
   "outputs": [],
   "source": [
    "X = df.drop('y', axis=1)\n",
    "y = df['y']\n",
    "X_train, X_test, y_train, y_test = train_test_split(X, y, test_size=0.2, random_state=42)"
   ]
  },
  {
   "cell_type": "markdown",
   "id": "cebbdabc",
   "metadata": {},
   "source": [
    "Menginisialisasi dan menyesuaikan model Regresi Logistik dengan peningkatan max_iter"
   ]
  },
  {
   "cell_type": "code",
   "execution_count": 5,
   "id": "7bf61224",
   "metadata": {},
   "outputs": [
    {
     "data": {
      "text/plain": [
       "LogisticRegression(max_iter=5000)"
      ]
     },
     "execution_count": 5,
     "metadata": {},
     "output_type": "execute_result"
    }
   ],
   "source": [
    "logreg = LogisticRegression(max_iter=5000)\n",
    "logreg.fit(X_train, y_train)"
   ]
  },
  {
   "cell_type": "markdown",
   "id": "754f1933",
   "metadata": {},
   "source": [
    "Memprediksi pada set pengujian"
   ]
  },
  {
   "cell_type": "code",
   "execution_count": 6,
   "id": "2aaab0f2",
   "metadata": {},
   "outputs": [],
   "source": [
    "y_pred = logreg.predict(X_test)"
   ]
  },
  {
   "cell_type": "markdown",
   "id": "425ff988",
   "metadata": {},
   "source": [
    "Mengevaluasi performa model"
   ]
  },
  {
   "cell_type": "code",
   "execution_count": 8,
   "id": "fe1988f2",
   "metadata": {},
   "outputs": [],
   "source": [
    "accuracy = accuracy_score(y_test, y_pred)\n",
    "precision = precision_score(y_test, y_pred)\n",
    "recall = recall_score(y_test, y_pred)\n",
    "f1 = f1_score(y_test, y_pred)"
   ]
  },
  {
   "cell_type": "markdown",
   "id": "e37a8788",
   "metadata": {},
   "source": [
    "Menampilkan hasil"
   ]
  },
  {
   "cell_type": "code",
   "execution_count": 9,
   "id": "5a3b308f",
   "metadata": {},
   "outputs": [
    {
     "name": "stdout",
     "output_type": "stream",
     "text": [
      "Accuracy: 0.8987061815769103\n",
      "Precision: 0.654320987654321\n",
      "Recall: 0.3400549954170486\n",
      "F1 Score: 0.44752714113389624\n"
     ]
    }
   ],
   "source": [
    "print(\"Accuracy:\", accuracy)\n",
    "print(\"Precision:\", precision)\n",
    "print(\"Recall:\", recall)\n",
    "print(\"F1 Score:\", f1)"
   ]
  },
  {
   "cell_type": "markdown",
   "id": "932c5977",
   "metadata": {},
   "source": [
    "# K-Nearest Neighbors (KNN)"
   ]
  },
  {
   "cell_type": "markdown",
   "id": "97a71aba",
   "metadata": {},
   "source": [
    "Import Library"
   ]
  },
  {
   "cell_type": "code",
   "execution_count": 10,
   "id": "ea49fdd0",
   "metadata": {},
   "outputs": [],
   "source": [
    "import warnings\n",
    "warnings.filterwarnings(\"ignore\", category=FutureWarning)\n",
    "import pandas as pd\n",
    "from sklearn.model_selection import train_test_split\n",
    "from sklearn.neighbors import KNeighborsClassifier\n",
    "from sklearn.metrics import accuracy_score, precision_score, recall_score, f1_score"
   ]
  },
  {
   "cell_type": "markdown",
   "id": "a943518d",
   "metadata": {},
   "source": [
    "Memuat Data"
   ]
  },
  {
   "cell_type": "code",
   "execution_count": 11,
   "id": "7d2a0123",
   "metadata": {},
   "outputs": [],
   "source": [
    "data = pd.read_csv(\"Bank-full.csv\", sep=\";\")"
   ]
  },
  {
   "cell_type": "markdown",
   "id": "9720157c",
   "metadata": {},
   "source": [
    "Convert categorical variables to numerical using one-hot encoding"
   ]
  },
  {
   "cell_type": "code",
   "execution_count": 12,
   "id": "3f76c879",
   "metadata": {},
   "outputs": [],
   "source": [
    "data = pd.get_dummies(data)"
   ]
  },
  {
   "cell_type": "markdown",
   "id": "0c135202",
   "metadata": {},
   "source": [
    "Split the data into features and target variable"
   ]
  },
  {
   "cell_type": "code",
   "execution_count": 13,
   "id": "0464b0d8",
   "metadata": {},
   "outputs": [],
   "source": [
    "X = data.drop(columns=\"y_yes\")\n",
    "y = data[\"y_yes\"]"
   ]
  },
  {
   "cell_type": "markdown",
   "id": "39ba1a12",
   "metadata": {},
   "source": [
    "Split the data into train and test sets"
   ]
  },
  {
   "cell_type": "code",
   "execution_count": 14,
   "id": "99cedbd8",
   "metadata": {},
   "outputs": [],
   "source": [
    "X_train, X_test, y_train, y_test = train_test_split(X, y, test_size=0.2, random_state=42)"
   ]
  },
  {
   "cell_type": "markdown",
   "id": "fe4d03d7",
   "metadata": {},
   "source": [
    "Initialize K-Nearest Neighbors classifier"
   ]
  },
  {
   "cell_type": "code",
   "execution_count": 15,
   "id": "ad193a8b",
   "metadata": {},
   "outputs": [],
   "source": [
    "knn = KNeighborsClassifier(n_neighbors=5)"
   ]
  },
  {
   "cell_type": "markdown",
   "id": "c29d0226",
   "metadata": {},
   "source": [
    "Train the classifier"
   ]
  },
  {
   "cell_type": "code",
   "execution_count": 16,
   "id": "a5370d60",
   "metadata": {},
   "outputs": [
    {
     "data": {
      "text/plain": [
       "KNeighborsClassifier()"
      ]
     },
     "execution_count": 16,
     "metadata": {},
     "output_type": "execute_result"
    }
   ],
   "source": [
    "knn.fit(X_train, y_train)"
   ]
  },
  {
   "cell_type": "markdown",
   "id": "83944006",
   "metadata": {},
   "source": [
    "Predict on the test set"
   ]
  },
  {
   "cell_type": "code",
   "execution_count": 17,
   "id": "2a0b1013",
   "metadata": {},
   "outputs": [],
   "source": [
    "y_pred = knn.predict(X_test)"
   ]
  },
  {
   "cell_type": "markdown",
   "id": "2210ceec",
   "metadata": {},
   "source": [
    "Calculate accuracy, precision, recall, and F1 score"
   ]
  },
  {
   "cell_type": "code",
   "execution_count": 18,
   "id": "f8305807",
   "metadata": {},
   "outputs": [],
   "source": [
    "accuracy = accuracy_score(y_test, y_pred)\n",
    "precision = precision_score(y_test, y_pred)\n",
    "recall = recall_score(y_test, y_pred)\n",
    "f1_score = f1_score(y_test, y_pred)"
   ]
  },
  {
   "cell_type": "markdown",
   "id": "f725fc7c",
   "metadata": {},
   "source": [
    "Print the results"
   ]
  },
  {
   "cell_type": "code",
   "execution_count": 19,
   "id": "a4323603",
   "metadata": {},
   "outputs": [
    {
     "name": "stdout",
     "output_type": "stream",
     "text": [
      "Accuracy: 0.8754837996240186\n",
      "Precision: 0.4726134585289515\n",
      "Recall: 0.2768102658111824\n",
      "F1 Score: 0.34913294797687866\n"
     ]
    }
   ],
   "source": [
    "print(\"Accuracy:\", accuracy)\n",
    "print(\"Precision:\", precision)\n",
    "print(\"Recall:\", recall)\n",
    "print(\"F1 Score:\", f1_score)"
   ]
  },
  {
   "cell_type": "markdown",
   "id": "d53e2c01",
   "metadata": {},
   "source": [
    "# Support Vector Machine"
   ]
  },
  {
   "cell_type": "markdown",
   "id": "32c0444c",
   "metadata": {},
   "source": [
    "Import Library"
   ]
  },
  {
   "cell_type": "code",
   "execution_count": 25,
   "id": "309b2465",
   "metadata": {},
   "outputs": [],
   "source": [
    "import pandas as pd\n",
    "from sklearn.model_selection import train_test_split\n",
    "from sklearn.svm import SVC\n",
    "from sklearn.metrics import accuracy_score, precision_score, recall_score, f1_score"
   ]
  },
  {
   "cell_type": "markdown",
   "id": "b35daef3",
   "metadata": {},
   "source": [
    "Load dataset"
   ]
  },
  {
   "cell_type": "code",
   "execution_count": 26,
   "id": "88f7cac0",
   "metadata": {},
   "outputs": [],
   "source": [
    "df = pd.read_csv('Bank-full.csv', delimiter=';')"
   ]
  },
  {
   "cell_type": "markdown",
   "id": "f1dc2916",
   "metadata": {},
   "source": [
    "Preprocessing"
   ]
  },
  {
   "cell_type": "code",
   "execution_count": 27,
   "id": "e81eb520",
   "metadata": {},
   "outputs": [],
   "source": [
    "X = df.iloc[:, :-1] # Features\n",
    "y = df.iloc[:, -1] # Target variable\n",
    "X = pd.get_dummies(X) # One-hot encoding for categorical variables\n",
    "y = y.map({'no': 0, 'yes': 1}) # Convert target variable to binary (0/1)\n"
   ]
  },
  {
   "cell_type": "markdown",
   "id": "a0eebf65",
   "metadata": {},
   "source": [
    " Split dataset into train and test sets"
   ]
  },
  {
   "cell_type": "code",
   "execution_count": 28,
   "id": "6d0135a0",
   "metadata": {},
   "outputs": [],
   "source": [
    "X_train, X_test, y_train, y_test = train_test_split(X, y, test_size=0.2, random_state=42)"
   ]
  },
  {
   "cell_type": "markdown",
   "id": "1cef6095",
   "metadata": {},
   "source": [
    "Initialize SVM model"
   ]
  },
  {
   "cell_type": "code",
   "execution_count": 31,
   "id": "a7ce6b98",
   "metadata": {},
   "outputs": [],
   "source": [
    "svm_model = SVC()"
   ]
  },
  {
   "cell_type": "markdown",
   "id": "774cc044",
   "metadata": {},
   "source": [
    "Train SVM model"
   ]
  },
  {
   "cell_type": "code",
   "execution_count": 32,
   "id": "c76963e9",
   "metadata": {},
   "outputs": [
    {
     "data": {
      "text/plain": [
       "SVC()"
      ]
     },
     "execution_count": 32,
     "metadata": {},
     "output_type": "execute_result"
    }
   ],
   "source": [
    "svm_model.fit(X_train, y_train)"
   ]
  },
  {
   "cell_type": "markdown",
   "id": "0815751d",
   "metadata": {},
   "source": [
    "Make predictions on test set"
   ]
  },
  {
   "cell_type": "code",
   "execution_count": 33,
   "id": "1f40c95b",
   "metadata": {},
   "outputs": [],
   "source": [
    "y_pred = svm_model.predict(X_test)"
   ]
  },
  {
   "cell_type": "markdown",
   "id": "3e1e7c45",
   "metadata": {},
   "source": [
    "Calculate evaluation metrics"
   ]
  },
  {
   "cell_type": "code",
   "execution_count": 34,
   "id": "233c4832",
   "metadata": {},
   "outputs": [],
   "source": [
    "accuracy = accuracy_score(y_test, y_pred)\n",
    "precision = precision_score(y_test, y_pred)\n",
    "recall = recall_score(y_test, y_pred)\n",
    "f1 = f1_score(y_test, y_pred)"
   ]
  },
  {
   "cell_type": "markdown",
   "id": "7bb47c9c",
   "metadata": {},
   "source": [
    "Print evaluation metrics"
   ]
  },
  {
   "cell_type": "code",
   "execution_count": 35,
   "id": "1b12f5bf",
   "metadata": {},
   "outputs": [
    {
     "name": "stdout",
     "output_type": "stream",
     "text": [
      "Accuracy: 0.8795\n",
      "Precision: 0.5385\n",
      "Recall: 0.0064\n",
      "F1 Score: 0.0127\n"
     ]
    }
   ],
   "source": [
    "print('Accuracy: {:.4f}'.format(accuracy))\n",
    "print('Precision: {:.4f}'.format(precision))\n",
    "print('Recall: {:.4f}'.format(recall))\n",
    "print('F1 Score: {:.4f}'.format(f1))"
   ]
  },
  {
   "cell_type": "markdown",
   "id": "f9afc732",
   "metadata": {},
   "source": [
    "# Decision Tree"
   ]
  },
  {
   "cell_type": "markdown",
   "id": "825ff9e6",
   "metadata": {},
   "source": [
    "Import  Library"
   ]
  },
  {
   "cell_type": "code",
   "execution_count": 36,
   "id": "f02edb98",
   "metadata": {},
   "outputs": [],
   "source": [
    "import pandas as pd\n",
    "from sklearn.model_selection import train_test_split\n",
    "from sklearn.tree import DecisionTreeClassifier\n",
    "from sklearn.metrics import accuracy_score, precision_score, recall_score, f1_score\n"
   ]
  },
  {
   "cell_type": "markdown",
   "id": "b130af57",
   "metadata": {},
   "source": [
    "Membaca data dari file CSV"
   ]
  },
  {
   "cell_type": "code",
   "execution_count": 37,
   "id": "bd8aafa6",
   "metadata": {},
   "outputs": [],
   "source": [
    "data = pd.read_csv('Bank-full.csv', delimiter=';')"
   ]
  },
  {
   "cell_type": "markdown",
   "id": "b5dd2e57",
   "metadata": {},
   "source": [
    "Mengubah kolom-kolom kategorikal menjadi numerik menggunakan one-hot encoding"
   ]
  },
  {
   "cell_type": "code",
   "execution_count": 38,
   "id": "d23e9b31",
   "metadata": {},
   "outputs": [],
   "source": [
    "data = pd.get_dummies(data)"
   ]
  },
  {
   "cell_type": "markdown",
   "id": "2e72b7ea",
   "metadata": {},
   "source": [
    "Memisahkan atribut (fitur) dan label (kelas target)"
   ]
  },
  {
   "cell_type": "code",
   "execution_count": 39,
   "id": "6706685a",
   "metadata": {},
   "outputs": [],
   "source": [
    "X = data.drop('y_yes', axis=1)  # Atribut\n",
    "y = data['y_yes']  # Label"
   ]
  },
  {
   "cell_type": "markdown",
   "id": "c6986221",
   "metadata": {},
   "source": [
    "Memisahkan data menjadi data latih dan data uji dengan perbandingan 80:20"
   ]
  },
  {
   "cell_type": "code",
   "execution_count": 40,
   "id": "be9d01c1",
   "metadata": {},
   "outputs": [],
   "source": [
    "X_train, X_test, y_train, y_test = train_test_split(X, y, test_size=0.2, random_state=42)"
   ]
  },
  {
   "cell_type": "markdown",
   "id": "17248378",
   "metadata": {},
   "source": [
    "Membangun model Decision Tree"
   ]
  },
  {
   "cell_type": "code",
   "execution_count": 41,
   "id": "5795cd96",
   "metadata": {},
   "outputs": [
    {
     "data": {
      "text/plain": [
       "DecisionTreeClassifier(random_state=42)"
      ]
     },
     "execution_count": 41,
     "metadata": {},
     "output_type": "execute_result"
    }
   ],
   "source": [
    "clf = DecisionTreeClassifier(random_state=42)\n",
    "clf.fit(X_train, y_train)"
   ]
  },
  {
   "cell_type": "markdown",
   "id": "21b4eaa0",
   "metadata": {},
   "source": [
    "Melakukan prediksi pada data uji"
   ]
  },
  {
   "cell_type": "code",
   "execution_count": 42,
   "id": "7de76a64",
   "metadata": {},
   "outputs": [],
   "source": [
    "y_pred = clf.predict(X_test)"
   ]
  },
  {
   "cell_type": "markdown",
   "id": "3170d799",
   "metadata": {},
   "source": [
    "Menghitung metrik evaluasi"
   ]
  },
  {
   "cell_type": "code",
   "execution_count": 43,
   "id": "a789d6da",
   "metadata": {},
   "outputs": [],
   "source": [
    "accuracy = accuracy_score(y_test, y_pred)\n",
    "precision = precision_score(y_test, y_pred)\n",
    "recall = recall_score(y_test, y_pred)\n",
    "f1_score = f1_score(y_test, y_pred)"
   ]
  },
  {
   "cell_type": "markdown",
   "id": "47744225",
   "metadata": {},
   "source": [
    "Menampilkan hasil metrik evaluasi"
   ]
  },
  {
   "cell_type": "code",
   "execution_count": 44,
   "id": "8b123005",
   "metadata": {},
   "outputs": [
    {
     "name": "stdout",
     "output_type": "stream",
     "text": [
      "Accuracy: 1.0\n",
      "Precision: 1.0\n",
      "Recall: 1.0\n",
      "F1 Score: 1.0\n"
     ]
    }
   ],
   "source": [
    "print(\"Accuracy:\", accuracy)\n",
    "print(\"Precision:\", precision)\n",
    "print(\"Recall:\", recall)\n",
    "print(\"F1 Score:\", f1_score)\n"
   ]
  },
  {
   "cell_type": "markdown",
   "id": "2d63522b",
   "metadata": {},
   "source": [
    "# Random Forest"
   ]
  },
  {
   "cell_type": "markdown",
   "id": "fa2b4658",
   "metadata": {},
   "source": [
    "Import Library"
   ]
  },
  {
   "cell_type": "code",
   "execution_count": 45,
   "id": "e56cc671",
   "metadata": {},
   "outputs": [],
   "source": [
    "import pandas as pd\n",
    "from sklearn.model_selection import train_test_split\n",
    "from sklearn.ensemble import RandomForestClassifier\n",
    "from sklearn.metrics import accuracy_score, precision_score, recall_score, f1_score"
   ]
  },
  {
   "cell_type": "markdown",
   "id": "c342a7cc",
   "metadata": {},
   "source": [
    "Load dataset"
   ]
  },
  {
   "cell_type": "code",
   "execution_count": 46,
   "id": "11df0bed",
   "metadata": {},
   "outputs": [],
   "source": [
    "data = pd.read_csv('Bank-full.csv', sep=';')"
   ]
  },
  {
   "cell_type": "markdown",
   "id": "1ebe4161",
   "metadata": {},
   "source": [
    "Preprocessing"
   ]
  },
  {
   "cell_type": "code",
   "execution_count": 47,
   "id": "6598e46a",
   "metadata": {},
   "outputs": [],
   "source": [
    "X = data.iloc[:, :-1]  # Features\n",
    "y = data.iloc[:, -1]   # Target variable\n",
    "X = pd.get_dummies(X)  # Convert categorical variables to numerical"
   ]
  },
  {
   "cell_type": "markdown",
   "id": "7b03fcb0",
   "metadata": {},
   "source": [
    "Split dataset into train and test sets"
   ]
  },
  {
   "cell_type": "code",
   "execution_count": 48,
   "id": "c9408bba",
   "metadata": {},
   "outputs": [],
   "source": [
    "X_train, X_test, y_train, y_test = train_test_split(X, y, test_size=0.2, random_state=42)"
   ]
  },
  {
   "cell_type": "markdown",
   "id": "752e98e9",
   "metadata": {},
   "source": [
    "Create and train Random Forest Classifier"
   ]
  },
  {
   "cell_type": "code",
   "execution_count": 49,
   "id": "8b35fde4",
   "metadata": {},
   "outputs": [
    {
     "data": {
      "text/plain": [
       "RandomForestClassifier(random_state=42)"
      ]
     },
     "execution_count": 49,
     "metadata": {},
     "output_type": "execute_result"
    }
   ],
   "source": [
    "clf = RandomForestClassifier(n_estimators=100, random_state=42)\n",
    "clf.fit(X_train, y_train)"
   ]
  },
  {
   "cell_type": "markdown",
   "id": "8f63b361",
   "metadata": {},
   "source": [
    "Predict on test data"
   ]
  },
  {
   "cell_type": "code",
   "execution_count": 50,
   "id": "3e471a41",
   "metadata": {},
   "outputs": [],
   "source": [
    "y_pred = clf.predict(X_test)"
   ]
  },
  {
   "cell_type": "markdown",
   "id": "8ba66cc5",
   "metadata": {},
   "source": [
    "Calculate evaluation metrics"
   ]
  },
  {
   "cell_type": "code",
   "execution_count": 51,
   "id": "0a624743",
   "metadata": {},
   "outputs": [],
   "source": [
    "accuracy = accuracy_score(y_test, y_pred)\n",
    "precision = precision_score(y_test, y_pred, average='weighted')\n",
    "recall = recall_score(y_test, y_pred, average='weighted')\n",
    "f1score = f1_score(y_test, y_pred, average='weighted')"
   ]
  },
  {
   "cell_type": "markdown",
   "id": "60151f4c",
   "metadata": {},
   "source": [
    "Print evaluation metrics"
   ]
  },
  {
   "cell_type": "code",
   "execution_count": 52,
   "id": "2f382a73",
   "metadata": {},
   "outputs": [
    {
     "name": "stdout",
     "output_type": "stream",
     "text": [
      "Accuracy: 0.9050093995355524\n",
      "Precision: 0.8932726018198927\n",
      "Recall: 0.9050093995355524\n",
      "F1 Score: 0.8946954032095135\n"
     ]
    }
   ],
   "source": [
    "print('Accuracy:', accuracy)\n",
    "print('Precision:', precision)\n",
    "print('Recall:', recall)\n",
    "print('F1 Score:', f1score)\n"
   ]
  },
  {
   "cell_type": "markdown",
   "id": "a07d2b25",
   "metadata": {},
   "source": [
    "# naive bayes"
   ]
  },
  {
   "cell_type": "markdown",
   "id": "8293c241",
   "metadata": {},
   "source": [
    "Import Library"
   ]
  },
  {
   "cell_type": "code",
   "execution_count": 53,
   "id": "2cd55a6e",
   "metadata": {},
   "outputs": [],
   "source": [
    "import pandas as pd\n",
    "from sklearn.model_selection import train_test_split\n",
    "from sklearn.naive_bayes import GaussianNB\n",
    "from sklearn.metrics import accuracy_score, precision_score, recall_score, f1_score"
   ]
  },
  {
   "cell_type": "markdown",
   "id": "72bea6c7",
   "metadata": {},
   "source": [
    "Load dataset"
   ]
  },
  {
   "cell_type": "code",
   "execution_count": 54,
   "id": "c6da0f99",
   "metadata": {},
   "outputs": [],
   "source": [
    "data = pd.read_csv('Bank-full.csv', sep=';')"
   ]
  },
  {
   "cell_type": "markdown",
   "id": "523d6071",
   "metadata": {},
   "source": [
    "Preprocessing"
   ]
  },
  {
   "cell_type": "code",
   "execution_count": 55,
   "id": "f5cecc37",
   "metadata": {},
   "outputs": [],
   "source": [
    "X = data.iloc[:, :-1]  # Features\n",
    "y = data.iloc[:, -1]   # Target variable\n",
    "X = pd.get_dummies(X)  # Convert categorical variables to numerical"
   ]
  },
  {
   "cell_type": "markdown",
   "id": "d7c11e8a",
   "metadata": {},
   "source": [
    "Split dataset into train and test sets"
   ]
  },
  {
   "cell_type": "code",
   "execution_count": 56,
   "id": "4379cedb",
   "metadata": {},
   "outputs": [],
   "source": [
    "X_train, X_test, y_train, y_test = train_test_split(X, y, test_size=0.2, random_state=42)"
   ]
  },
  {
   "cell_type": "markdown",
   "id": "16e68d51",
   "metadata": {},
   "source": [
    "Create and train Naive Bayes Classifier"
   ]
  },
  {
   "cell_type": "code",
   "execution_count": 57,
   "id": "3656b903",
   "metadata": {},
   "outputs": [
    {
     "data": {
      "text/plain": [
       "GaussianNB()"
      ]
     },
     "execution_count": 57,
     "metadata": {},
     "output_type": "execute_result"
    }
   ],
   "source": [
    "clf = GaussianNB()\n",
    "clf.fit(X_train, y_train)"
   ]
  },
  {
   "cell_type": "markdown",
   "id": "e107eb79",
   "metadata": {},
   "source": [
    "Predict on test data"
   ]
  },
  {
   "cell_type": "code",
   "execution_count": 58,
   "id": "5433b80c",
   "metadata": {},
   "outputs": [],
   "source": [
    "y_pred = clf.predict(X_test)"
   ]
  },
  {
   "cell_type": "markdown",
   "id": "bb60dea6",
   "metadata": {},
   "source": [
    "Calculate evaluation metrics"
   ]
  },
  {
   "cell_type": "code",
   "execution_count": 59,
   "id": "0a96248a",
   "metadata": {},
   "outputs": [],
   "source": [
    "accuracy = accuracy_score(y_test, y_pred)\n",
    "precision = precision_score(y_test, y_pred, average='weighted')\n",
    "recall = recall_score(y_test, y_pred, average='weighted')\n",
    "f1score = f1_score(y_test, y_pred, average='weighted')"
   ]
  },
  {
   "cell_type": "markdown",
   "id": "ca193d52",
   "metadata": {},
   "source": [
    "Print evaluation metrics"
   ]
  },
  {
   "cell_type": "code",
   "execution_count": 60,
   "id": "f9e1c32b",
   "metadata": {},
   "outputs": [
    {
     "name": "stdout",
     "output_type": "stream",
     "text": [
      "Accuracy: 0.8476169412805485\n",
      "Precision: 0.8711265319974949\n",
      "Recall: 0.8476169412805485\n",
      "F1 Score: 0.8574547057672663\n"
     ]
    }
   ],
   "source": [
    "print('Accuracy:', accuracy)\n",
    "print('Precision:', precision)\n",
    "print('Recall:', recall)\n",
    "print('F1 Score:', f1score)\n"
   ]
  },
  {
   "cell_type": "markdown",
   "id": "bd654f1d",
   "metadata": {},
   "source": [
    "# confusion matrix"
   ]
  },
  {
   "cell_type": "markdown",
   "id": "c921c9f0",
   "metadata": {},
   "source": [
    "Import Library"
   ]
  },
  {
   "cell_type": "code",
   "execution_count": 61,
   "id": "c56d8710",
   "metadata": {},
   "outputs": [],
   "source": [
    "import pandas as pd\n",
    "from sklearn.model_selection import train_test_split\n",
    "from sklearn.naive_bayes import GaussianNB\n",
    "from sklearn.metrics import confusion_matrix\n",
    "import seaborn as sns\n",
    "import matplotlib.pyplot as plt"
   ]
  },
  {
   "cell_type": "markdown",
   "id": "7ba28e3a",
   "metadata": {},
   "source": [
    "Load dataset"
   ]
  },
  {
   "cell_type": "code",
   "execution_count": 62,
   "id": "993ba679",
   "metadata": {},
   "outputs": [],
   "source": [
    "data = pd.read_csv('Bank-full.csv', sep=';')"
   ]
  },
  {
   "cell_type": "markdown",
   "id": "61cf81ad",
   "metadata": {},
   "source": [
    "Preprocessing"
   ]
  },
  {
   "cell_type": "code",
   "execution_count": 63,
   "id": "c76dd823",
   "metadata": {},
   "outputs": [],
   "source": [
    "X = data.iloc[:, :-1]  # Features\n",
    "y = data.iloc[:, -1]   # Target variable\n",
    "X = pd.get_dummies(X)  # Convert categorical variables to numerical"
   ]
  },
  {
   "cell_type": "markdown",
   "id": "7645f956",
   "metadata": {},
   "source": [
    "Split dataset into train and test sets"
   ]
  },
  {
   "cell_type": "code",
   "execution_count": 64,
   "id": "6a7ae73c",
   "metadata": {},
   "outputs": [],
   "source": [
    "X_train, X_test, y_train, y_test = train_test_split(X, y, test_size=0.2, random_state=42)"
   ]
  },
  {
   "cell_type": "markdown",
   "id": "6af6b081",
   "metadata": {},
   "source": [
    "Create and train Naive Bayes Classifier"
   ]
  },
  {
   "cell_type": "code",
   "execution_count": 65,
   "id": "b23d5a47",
   "metadata": {},
   "outputs": [
    {
     "data": {
      "text/plain": [
       "GaussianNB()"
      ]
     },
     "execution_count": 65,
     "metadata": {},
     "output_type": "execute_result"
    }
   ],
   "source": [
    "clf = GaussianNB()\n",
    "clf.fit(X_train, y_train)"
   ]
  },
  {
   "cell_type": "markdown",
   "id": "7398d951",
   "metadata": {},
   "source": [
    "Predict on test data"
   ]
  },
  {
   "cell_type": "code",
   "execution_count": 66,
   "id": "503f25a1",
   "metadata": {},
   "outputs": [],
   "source": [
    "y_pred = clf.predict(X_test)"
   ]
  },
  {
   "cell_type": "markdown",
   "id": "919d3b61",
   "metadata": {},
   "source": [
    "Create confusion matrix"
   ]
  },
  {
   "cell_type": "code",
   "execution_count": 67,
   "id": "aad8c3ff",
   "metadata": {},
   "outputs": [],
   "source": [
    "cm = confusion_matrix(y_test, y_pred)"
   ]
  },
  {
   "cell_type": "markdown",
   "id": "76117878",
   "metadata": {},
   "source": [
    "Plot confusion matrix"
   ]
  },
  {
   "cell_type": "code",
   "execution_count": 68,
   "id": "006a78ea",
   "metadata": {},
   "outputs": [
    {
     "data": {
      "image/png": "[encoded data removed]",
      "text/plain": [
       "<Figure size 640x480 with 2 Axes>"
      ]
     },
     "metadata": {},
     "output_type": "display_data"
    }
   ],
   "source": [
    "sns.heatmap(cm, annot=True, fmt='d', cmap='Blues')\n",
    "plt.xlabel('Predicted')\n",
    "plt.ylabel('Actual')\n",
    "plt.show()\n"
   ]
  },
  {
   "cell_type": "markdown",
   "id": "85047360",
   "metadata": {},
   "source": [
    "# Visualization"
   ]
  },
  {
   "cell_type": "markdown",
   "id": "0cac16f3",
   "metadata": {},
   "source": [
    "import Library"
   ]
  },
  {
   "cell_type": "code",
   "execution_count": 69,
   "id": "42232b7f",
   "metadata": {},
   "outputs": [],
   "source": [
    "import pandas as pd\n",
    "import matplotlib.pyplot as plt"
   ]
  },
  {
   "cell_type": "markdown",
   "id": "2032daa9",
   "metadata": {},
   "source": [
    "Load dataset"
   ]
  },
  {
   "cell_type": "code",
   "execution_count": 70,
   "id": "f91b2edc",
   "metadata": {},
   "outputs": [],
   "source": [
    "data = pd.read_csv('Bank-full.csv', sep=';')"
   ]
  },
  {
   "cell_type": "markdown",
   "id": "1d7d5789",
   "metadata": {},
   "source": [
    "Histogram"
   ]
  },
  {
   "cell_type": "code",
   "execution_count": 71,
   "id": "ee6d5307",
   "metadata": {},
   "outputs": [
    {
     "data": {
      "image/png": "[encoded data removed]",
      "text/plain": [
       "<Figure size 1000x600 with 1 Axes>"
      ]
     },
     "metadata": {},
     "output_type": "display_data"
    }
   ],
   "source": [
    "plt.figure(figsize=(10, 6))\n",
    "plt.hist(data['age'], bins=20, color='skyblue', edgecolor='black')\n",
    "plt.xlabel('Age')\n",
    "plt.ylabel('Frequency')\n",
    "plt.title('Age Distribution')\n",
    "plt.show()"
   ]
  },
  {
   "cell_type": "markdown",
   "id": "a984d205",
   "metadata": {},
   "source": [
    "Pie Chart"
   ]
  },
  {
   "cell_type": "code",
   "execution_count": 72,
   "id": "950b80a1",
   "metadata": {},
   "outputs": [
    {
     "data": {
      "image/png": "[encoded data removed]",
      "text/plain": [
       "<Figure size 800x600 with 1 Axes>"
      ]
     },
     "metadata": {},
     "output_type": "display_data"
    }
   ],
   "source": [
    "marital_status_count = data['marital'].value_counts()\n",
    "labels = marital_status_count.index\n",
    "sizes = marital_status_count.values\n",
    "colors = ['lightblue', 'lightgreen', 'pink', 'purple']\n",
    "plt.figure(figsize=(8, 6))\n",
    "plt.pie(sizes, labels=labels, colors=colors, autopct='%1.1f%%', startangle=90)\n",
    "plt.title('Marital Status Distribution')\n",
    "plt.show()"
   ]
  }
 ],
 "metadata": {
  "kernelspec": {
   "display_name": "Python 3 (ipykernel)",
   "language": "python",
   "name": "python3"
  },
  "language_info": {
   "codemirror_mode": {
    "name": "ipython",
    "version": 3
   },
   "file_extension": ".py",
   "mimetype": "text/x-python",
   "name": "python",
   "nbconvert_exporter": "python",
   "pygments_lexer": "ipython3",
   "version": "3.9.13"
  }
 },
 "nbformat": 4,
 "nbformat_minor": 5
}
